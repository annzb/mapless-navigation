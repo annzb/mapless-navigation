{
 "cells": [
  {
   "cell_type": "code",
   "id": "initial_id",
   "metadata": {
    "collapsed": true,
    "ExecuteTime": {
     "end_time": "2024-08-19T20:03:56.775772Z",
     "start_time": "2024-08-19T20:03:56.773010Z"
    }
   },
   "source": [
    "import os\n",
    "import pickle\n",
    "\n",
    "import numpy as np\n",
    "\n",
    "from src.coloradar_tools import get_heatmap, get_single_chip_params"
   ],
   "outputs": [],
   "execution_count": 3
  },
  {
   "metadata": {
    "ExecuteTime": {
     "end_time": "2024-08-19T20:04:21.937534Z",
     "start_time": "2024-08-19T20:04:21.935497Z"
    }
   },
   "cell_type": "code",
   "source": [
    "coloradar_dir = '/home/arpg/coloradar'\n",
    "calib_folder_name = 'calib'"
   ],
   "id": "28f5fa3cce82dcd4",
   "outputs": [],
   "execution_count": 5
  },
  {
   "metadata": {
    "ExecuteTime": {
     "end_time": "2024-08-19T20:04:22.190800Z",
     "start_time": "2024-08-19T20:04:22.159403Z"
    }
   },
   "cell_type": "code",
   "source": "params = get_single_chip_params(calib_dir=os.path.join(coloradar_dir, calib_folder_name))",
   "id": "6e41a26db0f55e65",
   "outputs": [
    {
     "ename": "FileNotFoundError",
     "evalue": "[Errno 2] No such file or directory: '/home/arpg/coloradar/calib/single_chip/antenna_cfg.txt'",
     "output_type": "error",
     "traceback": [
      "\u001B[0;31m---------------------------------------------------------------------------\u001B[0m",
      "\u001B[0;31mFileNotFoundError\u001B[0m                         Traceback (most recent call last)",
      "Cell \u001B[0;32mIn[6], line 1\u001B[0m\n\u001B[0;32m----> 1\u001B[0m params \u001B[38;5;241m=\u001B[39m \u001B[43mget_single_chip_params\u001B[49m\u001B[43m(\u001B[49m\u001B[43mcalib_dir\u001B[49m\u001B[38;5;241;43m=\u001B[39;49m\u001B[43mos\u001B[49m\u001B[38;5;241;43m.\u001B[39;49m\u001B[43mpath\u001B[49m\u001B[38;5;241;43m.\u001B[39;49m\u001B[43mjoin\u001B[49m\u001B[43m(\u001B[49m\u001B[43mcoloradar_dir\u001B[49m\u001B[43m,\u001B[49m\u001B[43m \u001B[49m\u001B[43mcalib_folder_name\u001B[49m\u001B[43m)\u001B[49m\u001B[43m)\u001B[49m\n",
      "File \u001B[0;32m~/projects/mapless-navigation/src/coloradar_tools.py:127\u001B[0m, in \u001B[0;36mget_single_chip_params\u001B[0;34m(calib_dir)\u001B[0m\n\u001B[1;32m    124\u001B[0m hm_params \u001B[38;5;241m=\u001B[39m read_heatmap_cfg(hm_filename, hm_params)\n\u001B[1;32m    126\u001B[0m antenna_filename \u001B[38;5;241m=\u001B[39m calib_dir \u001B[38;5;241m+\u001B[39m \u001B[38;5;124m'\u001B[39m\u001B[38;5;124m/single_chip/antenna_cfg.txt\u001B[39m\u001B[38;5;124m'\u001B[39m\n\u001B[0;32m--> 127\u001B[0m antenna_cfg \u001B[38;5;241m=\u001B[39m \u001B[43mread_antenna_cfg\u001B[49m\u001B[43m(\u001B[49m\u001B[43mantenna_filename\u001B[49m\u001B[43m)\u001B[49m\n\u001B[1;32m    129\u001B[0m coupling_filename \u001B[38;5;241m=\u001B[39m calib_dir \u001B[38;5;241m+\u001B[39m \u001B[38;5;124m'\u001B[39m\u001B[38;5;124m/single_chip/coupling_calib.txt\u001B[39m\u001B[38;5;124m'\u001B[39m\n\u001B[1;32m    130\u001B[0m coupling_calib \u001B[38;5;241m=\u001B[39m read_coupling_cfg(coupling_filename)\n",
      "File \u001B[0;32m~/projects/mapless-navigation/src/coloradar_tools.py:60\u001B[0m, in \u001B[0;36mread_antenna_cfg\u001B[0;34m(filename)\u001B[0m\n\u001B[1;32m     57\u001B[0m \u001B[38;5;28;01mdef\u001B[39;00m \u001B[38;5;21mread_antenna_cfg\u001B[39m(filename):\n\u001B[1;32m     58\u001B[0m     antenna_cfg \u001B[38;5;241m=\u001B[39m {}\n\u001B[0;32m---> 60\u001B[0m     \u001B[38;5;28;01mwith\u001B[39;00m \u001B[38;5;28;43mopen\u001B[39;49m\u001B[43m(\u001B[49m\u001B[43mfilename\u001B[49m\u001B[43m,\u001B[49m\u001B[43m \u001B[49m\u001B[43mmode\u001B[49m\u001B[38;5;241;43m=\u001B[39;49m\u001B[38;5;124;43m'\u001B[39;49m\u001B[38;5;124;43mr\u001B[39;49m\u001B[38;5;124;43m'\u001B[39;49m\u001B[43m)\u001B[49m \u001B[38;5;28;01mas\u001B[39;00m file:\n\u001B[1;32m     61\u001B[0m         lines \u001B[38;5;241m=\u001B[39m file\u001B[38;5;241m.\u001B[39mreadlines()\n\u001B[1;32m     63\u001B[0m     \u001B[38;5;28;01mfor\u001B[39;00m line \u001B[38;5;129;01min\u001B[39;00m lines:\n",
      "\u001B[0;31mFileNotFoundError\u001B[0m: [Errno 2] No such file or directory: '/home/arpg/coloradar/calib/single_chip/antenna_cfg.txt'"
     ]
    }
   ],
   "execution_count": 6
  },
  {
   "metadata": {},
   "cell_type": "code",
   "outputs": [],
   "execution_count": null,
   "source": "",
   "id": "733279cc9200f4f2"
  },
  {
   "metadata": {},
   "cell_type": "code",
   "outputs": [],
   "execution_count": null,
   "source": "",
   "id": "c56804838d58d260"
  },
  {
   "metadata": {},
   "cell_type": "markdown",
   "source": "## Build Octomaps",
   "id": "3d0bf61033c39f74"
  },
  {
   "metadata": {},
   "cell_type": "code",
   "outputs": [],
   "execution_count": null,
   "source": "",
   "id": "39edde954a998255"
  },
  {
   "metadata": {},
   "cell_type": "code",
   "outputs": [],
   "execution_count": null,
   "source": "",
   "id": "b1df1658004707fc"
  },
  {
   "metadata": {},
   "cell_type": "code",
   "outputs": [],
   "execution_count": null,
   "source": [
    "elevation_angle = 59  # from -29.5 to 29.5, max 76.3 * 2 degrees\n",
    "azimuth_angle = 118  # from -59 to 59, max 79.8 * 2 degrees\n",
    "y_max = 8\n",
    "map_resolution = 0.25\n",
    "# x_min, x_max = -5.68, 5.68\n",
    "# x_max = int(y_max * np.tan(np.radians(azimuth_angle / 2)))\n",
    "# z_max = int(y_max * np.tan(np.radians(elevation_angle / 2)))\n",
    "x_max = y_max * np.tan(np.radians(azimuth_angle / 2)) // map_resolution * map_resolution\n",
    "z_max = y_max * np.tan(np.radians(elevation_angle / 2)) // map_resolution * map_resolution\n",
    "print('x_max', x_max, 'z_max', z_max)  # 13.25m, 4.5m\n",
    "azimuth_from, azimuth_to = 4, 59  # from -59.68° to 59.68°\n",
    "elevation_from, elevation_to = 4, 11  # from -38° to 38°\n",
    "print('Azimuth indices:', azimuth_from, ':', azimuth_to)\n",
    "print('Elevation indices:', elevation_from, ':', elevation_to)\n",
    "\n",
    "\n",
    "\n",
    "params['x_min'], params['x_max'] = -x_max, x_max\n",
    "params['y_min'], params['y_max'] = 0, y_max\n",
    "params['z_min'], params['z_max'] = -z_max, z_max\n",
    "params['azimuth_from'], params['azimuth_to'] = azimuth_from, azimuth_to\n",
    "params['elevation_from'], params['elevation_to'] = elevation_from, elevation_to\n",
    "data = {'params': params}\n",
    "\n",
    "range_bin_width = round(params['heatmap']['range_bin_width'], 3)\n",
    "range_bins = np.arange(range_bin_width, y_max + range_bin_width, range_bin_width)\n",
    "azimuth_bins = parse_polar_bins(params['heatmap']['azimuth_bins'])[azimuth_from:azimuth_to + 1]\n",
    "elevation_bins = parse_polar_bins(params['heatmap']['elevation_bins'])[elevation_from:elevation_to + 1]\n",
    "\n",
    "for run_folder_name in ('ec_hallways_run1',\n",
    "    'arpg_lab_run0',\n",
    "    'aspen_run0', 'ec_hallways_run0', 'edgar_classroom_run0',\n",
    "    'longboard_run0', 'outdoors_run0'\n",
    "):\n",
    "    print('Processing', run_folder_name)\n",
    "    map_file_path = os.path.join(coloradar_dir, run_folder_name + '_lidar_octomap_points.csv')\n",
    "    run_dir = os.path.join(coloradar_dir, run_folder_name)\n",
    "    poses = np.loadtxt(os.path.join(run_dir, 'groundtruth/groundtruth_poses.txt'))\n",
    "    pose_timestamps = np.loadtxt(os.path.join(run_dir, 'groundtruth/timestamps.txt'))\n",
    "    heatmap_timestamps = np.loadtxt(os.path.join(run_dir, 'single_chip/heatmaps/timestamps.txt'))\n",
    "    pose_indices = associate_radar_with_pose(heatmap_timestamps, pose_timestamps)\n",
    "    map_points = np.loadtxt(map_file_path, delimiter=',', skiprows=1)\n",
    "    # print(map_points.shape)\n",
    "    # print(map_points[0])\n",
    "    # print('Saving total map')\n",
    "    # save_total_map(map_points, poses)\n",
    "\n",
    "    print('Calculating frames')\n",
    "    map_frames = []\n",
    "    poses_matched, pose_timestamps_matched = [], []\n",
    "    frame_grids = []\n",
    "    heatmaps = []\n",
    "    for heatmap_idx, pose_idx in tqdm(enumerate(pose_indices)):\n",
    "        poses_matched.append(poses[pose_idx])\n",
    "        pose_timestamps_matched.append(pose_timestamps[pose_idx])\n",
    "\n",
    "        heatmap = get_heatmap(\n",
    "            filename=os.path.join(run_dir, 'single_chip/heatmaps/data/heatmap_' + str(heatmap_idx) + '.bin'),\n",
    "            params=params['heatmap']\n",
    "        )[elevation_from:elevation_to + 1, azimuth_from:azimuth_to + 1, :, :]\n",
    "        # print(calculate_heatmap_stats(heatmap))\n",
    "        heatmaps.append(heatmap)\n",
    "        if heatmap_idx % 10 == 0:\n",
    "            save_heatmap_image(heatmap, filename=f'heatmap_small_{heatmap_idx}.png')\n",
    "\n",
    "        # true_points = select_points_from_pose(map_points, x_max=x_max, y_max=y_max, z_max=z_max)\n",
    "        localized_points = get_localized_pointcloud(\n",
    "            poses[pose_idx], map_points,\n",
    "            azimuth_angle=azimuth_angle,\n",
    "            elevation_angle=elevation_angle,\n",
    "            y_max=y_max, z_max=z_max, x_max=x_max\n",
    "        )\n",
    "        frame_grid = points_to_grid(\n",
    "            localized_points, resolution=map_resolution,\n",
    "            x_max=x_max, y_max=y_max, z_max=z_max,\n",
    "            x_min=-x_max, y_min=0, z_min=-z_max\n",
    "        )\n",
    "        map_frames.append(localized_points)\n",
    "        frame_grids.append(frame_grid)\n",
    "\n",
    "    polar_grids = cartesian_to_polar_grid(\n",
    "        np.array(frame_grids), x_min=-x_max, x_max=x_max, y_max=y_max, z_min=-z_max, z_max=z_max,\n",
    "        azimuth_bins=azimuth_bins, elevation_bins=elevation_bins, range_bins=range_bins,\n",
    "        range_bin_width=range_bin_width\n",
    "    )\n",
    "    data[run_folder_name] = {\n",
    "        'heatmaps': heatmaps,\n",
    "        'gt_grids': frame_grids,\n",
    "        'polar_grids': polar_grids,\n",
    "        'poses': poses_matched,\n",
    "        'pose_timestamps': pose_timestamps_matched\n",
    "        # 'gt_points': map_frames\n",
    "    }\n",
    "# visualize_true_frames(map_frames, x_max=x_max, y_max=y_max, z_max=z_max)\n",
    "# return\n",
    "print('Heatmap shape', heatmaps[0].shape)\n",
    "# print('GT frame shape', localized_points.shape)\n",
    "print('GT grid shape', frame_grid.shape)\n",
    "\n",
    "if os.path.isfile(dataset_filename):\n",
    "    with open(dataset_filename, 'rb') as f:\n",
    "        data_old = pickle.load(f)\n",
    "else:\n",
    "    data_old = {}\n",
    "data_old.update(data)\n",
    "print('Writing runs:', data_old.keys())\n",
    "with open(dataset_filename, 'wb') as f:\n",
    "    pickle.dump(data_old, f)"
   ],
   "id": "f40977a59bb58883"
  },
  {
   "metadata": {},
   "cell_type": "code",
   "outputs": [],
   "execution_count": null,
   "source": "",
   "id": "be2d41eb1e03c25d"
  },
  {
   "metadata": {},
   "cell_type": "code",
   "outputs": [],
   "execution_count": null,
   "source": "",
   "id": "c20ea0ecfb155489"
  },
  {
   "metadata": {},
   "cell_type": "code",
   "outputs": [],
   "execution_count": null,
   "source": "",
   "id": "5b272b6c8e26da3f"
  },
  {
   "metadata": {},
   "cell_type": "code",
   "outputs": [],
   "execution_count": null,
   "source": "",
   "id": "1349222736ade4d6"
  },
  {
   "metadata": {},
   "cell_type": "code",
   "outputs": [],
   "execution_count": null,
   "source": "",
   "id": "a2e322e239dad68"
  }
 ],
 "metadata": {
  "kernelspec": {
   "display_name": "Python 3",
   "language": "python",
   "name": "python3"
  },
  "language_info": {
   "codemirror_mode": {
    "name": "ipython",
    "version": 2
   },
   "file_extension": ".py",
   "mimetype": "text/x-python",
   "name": "python",
   "nbconvert_exporter": "python",
   "pygments_lexer": "ipython2",
   "version": "2.7.6"
  }
 },
 "nbformat": 4,
 "nbformat_minor": 5
}
